{
 "cells": [
  {
   "cell_type": "markdown",
   "metadata": {
    "slideshow": {
     "slide_type": "slide"
    }
   },
   "source": [
    "# GraalVM"
   ]
  },
  {
   "cell_type": "markdown",
   "metadata": {
    "slideshow": {
     "slide_type": "slide"
    }
   },
   "source": [
    "# Hackathon goals\n",
    "\n",
    "Begin designing and building web-friendly tools for microscopy data that performantly and interactively render images and volumes and can be easily used in a handful of critical use cases, including desktop applications (e.g. via Electron), web explorers (e.g. the Allen Cell explorer), and within the workflow of computational analysis tools (e.g. CellProfiler, Jupyter). Explore related opportunities around better integrating machine learning into analytical workflows."
   ]
  },
  {
   "cell_type": "markdown",
   "metadata": {
    "slideshow": {
     "slide_type": "slide"
    }
   },
   "source": [
    "## Why care about accessibility?\n",
    "\n",
    "* Why not [\"KISS\"](TODO) and make things work _really well_ on one platform (e.g. linux-amd64+python3)?\n",
    "* Because we want to stop reinventing wheels. That's why we are here planning new JS libraries, right?\n",
    "* Why do we keep rewriting things?\n",
    "    * Accessibility - Code does not run on my target platform(s)\n",
    "    * Licensing - The license is too restrictive\n",
    "    * Performance - The program is not fast enough\n",
    "    * Functionality - The program is not powerful enough\n",
    "    * Quality - The program is brittle, buggy, lacks reproducibility, etc.\n",
    "    * Complexity - The code is too hard to understand and/or change\n",
    "    * (Footprint? i.e. \"overkill\" is this a subset of Complexity?)\n",
    "    * (Fun. We like coding.)"
   ]
  },
  {
   "cell_type": "markdown",
   "metadata": {
    "slideshow": {
     "slide_type": "slide"
    }
   },
   "source": [
    "# Why is Java awesome?\n",
    "\n",
    "* Write once, run anywhere\n",
    "* Great performance thanks to the Just-In-Time (JIT) compiler\n",
    "* Great standard library\n",
    "* Huge collection of third party libraries\n",
    "* Awesome dependency management -- great for reproducible science"
   ]
  },
  {
   "cell_type": "markdown",
   "metadata": {
    "slideshow": {
     "slide_type": "slide"
    }
   },
   "source": [
    "# Why does Java suck?\n",
    "* JIT compilation imposes warmup time\n",
    "* JIT compilation imposes memory overhead\n",
    "* Java language is verbose\n",
    "    * Java code is often harder to read and understand than e.g. Python code\n",
    "    * There are interpreted scripting languages on the JVM (e.g. Jython, JRuby, Groovy) but they suffer performance-wise."
   ]
  },
  {
   "cell_type": "markdown",
   "metadata": {
    "slideshow": {
     "slide_type": "slide"
    }
   },
   "source": [
    "# What is GraalVM?\n",
    "\n",
    "\"One VM to rule them all\"—a performant polyglot virtual machine"
   ]
  },
  {
   "cell_type": "markdown",
   "metadata": {
    "slideshow": {
     "slide_type": "subslide"
    }
   },
   "source": [
    "# What can GraalVM do?\n",
    "\n",
    "[Top 10 things GraalVM can do](https://github.com/chrisseaton/graalvm-ten-things)"
   ]
  },
  {
   "cell_type": "markdown",
   "metadata": {
    "slideshow": {
     "slide_type": "slide"
    }
   },
   "source": [
    "## 1. High-performance modern Java\n",
    "\n",
    "Graal's Just-In-Time (JIT) compiler is more advanced than OpenJDK's C1 (client) and C2 (server) implementations.\n",
    "[TODO double check C1 and C2 terms]\n",
    "\n",
    "* JVMCI [TODO link?] framework enables alternative JIT implementations.\n",
    "\n",
    "* Written in Java, which means it's significantly easier to hack on and extend than a traditional compiler written in C or C++.\n",
    "\n",
    "* Advanced optimizations, like partial [escape analysis](https://en.wikipedia.org/wiki/Escape_analysis).\n",
    "\n",
    "* Twitter now uses it in production with their Scala code for 20% speed boost. Saves lots of money. [TODO link article and/or video]\n",
    "    * \"when applied to Scala programs it runs them about 20% faster.\" https://blog.plan99.net/graal-truffle-134d8f28fb69"
   ]
  },
  {
   "cell_type": "markdown",
   "metadata": {
    "slideshow": {
     "slide_type": "slide"
    }
   },
   "source": [
    "## 2. Low-footprint, fast-startup Java\n",
    "\n",
    "`native-image`: an Ahead-Of-Time (AOT) compiler\n",
    "No need to ship the VM."
   ]
  },
  {
   "cell_type": "markdown",
   "metadata": {
    "slideshow": {
     "slide_type": "slide"
    }
   },
   "source": [
    "## 3. Combine JavaScript, Java, Ruby, and R\n",
    "\n",
    "[Truffle](TODO): a framework for easily and effectively implementing programming languages on the VM.\n",
    "\n",
    "The \"JVM\" is not just for Java anymore!\n",
    "\n",
    "* \"That library is not available in my language. I need to rewrite it.\"\n",
    "* \"That language would be the perfect fit for my problem, but we cannot run it in our environment.\"\n",
    "* \"That problem is already solved in my language, but the language is too slow.\"\n",
    "\n",
    "GraalVM aims \"to allow developers to freely choose the right language for the task at hand without making compromises.\" https://www.graalvm.org/docs/reference-manual/polyglot/\n",
    "\n",
    "The [Graal Polyglot API](https://www.graalvm.org/docs/reference-manual/polyglot/) lets you [embed and run code from guest languages in JVM-based host applications](http://www.graalvm.org/docs/graalvm-as-a-platform/embed/).\n",
    "\n",
    "Recognizes interpreters written using Truffle and can convert Truffle abstract syntax trees (ASTs) into optimized native code, using [partial evaluation](https://en.wikipedia.org/wiki/Partial_evaluation).\n",
    "\n",
    "\"invoking a function simply joins the ASTs of the two languages together. Those two ASTs are then compiled and optimized by Graal as a single unit\" ([source]())\n",
    "\n",
    "### How can it possibly work?\n",
    "- no marshaling/unmarshaling! shared representation of objects\n",
    "\n",
    "### Which languages\n",
    "- Java (including JVM-based languages: Clojure, Scala, Groovy, Jython, JRuby, etc.)\n",
    "    - Caveat: Java itself is not implemented on top of Truffle yet. But [Project Metropolis](TODO) is underway to change that.\n",
    "- JavaScript\n",
    "- Ruby\n",
    "- Python (alpha)\n",
    "- C, C++, Fortran - via LLVM bitcode\n",
    "\n",
    "\"To give a feel for how easy it is to write these engines, TruffleJS is only about 80,000 lines of code compared to about 1.7 million for V8.\"\n",
    "https://blog.plan99.net/graal-truffle-134d8f28fb69\n",
    "\n",
    "- TruffleRuby ~8x faster than CRuby 2.x:\n",
    "https://pragtob.wordpress.com/2017/01/24/benchmarking-a-go-ai-in-ruby-cruby-vs-rubinius-vs-jruby-vs-truffle-a-year-later/"
   ]
  },
  {
   "cell_type": "markdown",
   "metadata": {},
   "source": [
    "## Which languages are implemented?"
   ]
  },
  {
   "cell_type": "code",
   "execution_count": 1,
   "metadata": {
    "slideshow": {
     "slide_type": "subslide"
    }
   },
   "outputs": [
    {
     "data": {
      "application/vnd.jupyter.widget-view+json": {
       "model_id": "06578eb9-ca4b-4334-8f89-f766c0420aa0",
       "version_major": 2,
       "version_minor": 0
      },
      "method": "display_data"
     },
     "metadata": {},
     "output_type": "display_data"
    }
   ],
   "source": [
    "import org.graalvm.polyglot.Context\n",
    "context = Context.newBuilder().allowAllAccess(true).build()\n",
    "context.getEngine().getLanguages()"
   ]
  },
  {
   "cell_type": "code",
   "execution_count": 2,
   "metadata": {
    "slideshow": {
     "slide_type": "subslide"
    }
   },
   "outputs": [
    {
     "name": "stdout",
     "output_type": "stream",
     "text": [
      "Hello Groovy\n",
      "Hello JavaScript\n",
      "Hello Python\n",
      "[1] \"Hello R\"\n",
      "Hello Ruby\n"
     ]
    },
    {
     "data": {
      "text/plain": [
       "nil"
      ]
     },
     "execution_count": 2,
     "metadata": {},
     "output_type": "execute_result"
    }
   ],
   "source": [
    "println('Hello Groovy')\n",
    "context.eval(\"js\", \"print('Hello JavaScript')\")\n",
    "context.eval(\"python\", \"print('Hello Python')\")\n",
    "context.eval(\"R\", \"print('Hello R');\")\n",
    "context.eval(\"ruby\", \"puts('Hello Ruby')\")"
   ]
  },
  {
   "cell_type": "markdown",
   "metadata": {
    "slideshow": {
     "slide_type": "slide"
    }
   },
   "source": [
    "## 4. Run native languages on the JVM\n",
    "\n",
    "-- node.js native vs jvm mode? Worth clarifying, or no?"
   ]
  },
  {
   "cell_type": "markdown",
   "metadata": {
    "slideshow": {
     "slide_type": "slide"
    }
   },
   "source": [
    "## 5. Tools that work across all languages\n",
    "\n",
    "\"The Truffle framework is a kind of nexus for languages and tools.\"\n",
    " -- e.g., Chrome debugger for Python\n",
    "\n",
    "Debugging\n",
    "- \"Languages such as R and Ruby can be debugged as easily as JavaScript, including stepping through language boundaries during guest language interoperability.\"\n",
    "- Chrome DevTools, JVisualVM\n",
    "- http://www.graalvm.org/docs/reference-manual/tools/\n",
    "- https://medium.com/graalvm/debugging-polyglot-node-js-ruby-r-apps-with-graalvm-81b1bb2614db\n",
    "\n",
    "\"If you run a standard JVM language, like JRuby, with VisualVM you'll be disappointed in that you'll see the underlying Java objects, rather than any information about your language's objects. If we use the GraalVM version of Ruby instead, VisualVM will recognise the Ruby objects themselves. We need to use the --jvm command to use VisualVM, as it doesn't support the native version of Ruby.\""
   ]
  },
  {
   "cell_type": "markdown",
   "metadata": {
    "slideshow": {
     "slide_type": "slide"
    }
   },
   "source": [
    "## 6. Extend a JVM-based application"
   ]
  },
  {
   "cell_type": "code",
   "execution_count": 3,
   "metadata": {
    "slideshow": {
     "slide_type": "subslide"
    }
   },
   "outputs": [
    {
     "data": {
      "text/plain": [
       "[1, 2, 4, 8, 16, 32, 64, 128, 256, 512, 1024, 2048, 4096, 8192, 16384, 32768]"
      ]
     },
     "execution_count": 3,
     "metadata": {},
     "output_type": "execute_result"
    }
   ],
   "source": [
    "context.eval(\"python\", \"[2**n for n in range(0, 16)]\")"
   ]
  },
  {
   "cell_type": "markdown",
   "metadata": {
    "slideshow": {
     "slide_type": "slide"
    }
   },
   "source": [
    "## 7. Extend a native application\n",
    "- link to libpolyglot and invoke any/all Truffle languages from C et al"
   ]
  },
  {
   "cell_type": "markdown",
   "metadata": {
    "slideshow": {
     "slide_type": "slide"
    }
   },
   "source": [
    "## 8. Java code as a native library\n",
    "\n",
    "TODO"
   ]
  },
  {
   "cell_type": "markdown",
   "metadata": {
    "slideshow": {
     "slide_type": "slide"
    }
   },
   "source": [
    "## 9. Polyglot in the database\n",
    "\n",
    "TODO"
   ]
  },
  {
   "cell_type": "markdown",
   "metadata": {
    "slideshow": {
     "slide_type": "slide"
    }
   },
   "source": [
    "## 10. Create your own language\n",
    "\n",
    "Truffle languages are written in Java.\n",
    "\n",
    "\"An advanced visualizer tool lets you explore the compiler's intermediate representation as it passes through optimization stages.\" https://blog.plan99.net/graal-truffle-134d8f28fb69"
   ]
  },
  {
   "cell_type": "markdown",
   "metadata": {
    "slideshow": {
     "slide_type": "slide"
    }
   },
   "source": [
    "# Questions"
   ]
  },
  {
   "cell_type": "markdown",
   "metadata": {
    "slideshow": {
     "slide_type": "subslide"
    }
   },
   "source": [
    "## What are the downsides?\n",
    "Space/time tradeoffs: warmup time, memory usage, vs. static comp\n",
    "* JIT = more memory, longer startup and warmup times\n",
    "* AOT = less memory, fast startup, but less dynamic/extensible and often worse peak performance"
   ]
  },
  {
   "cell_type": "markdown",
   "metadata": {
    "slideshow": {
     "slide_type": "subslide"
    }
   },
   "source": [
    "## Will it catch on?\n",
    "Graal's improved JIT already ships with Java 9 and 10.\n",
    "```\n",
    "java -XX:+UnlockExperimentalVMOptions -XX:+EnableJVMCI -XX:+UseJVMCICompiler -Djvmci.Compiler=graal ...\n",
    "```\n",
    "~30 core developers at Oracle Labs and academic partners."
   ]
  },
  {
   "cell_type": "markdown",
   "metadata": {
    "slideshow": {
     "slide_type": "subslide"
    }
   },
   "source": [
    "## But... it's Oracle! What about open source?\n",
    "\n",
    "TODO - break down the licensing of components\n",
    "\n",
    "I am impressed with not only the open licensing, but also the openness of process. Academic papers and partnerships. All on GitHub. Active chat room on Gitter."
   ]
  },
  {
   "cell_type": "markdown",
   "metadata": {
    "slideshow": {
     "slide_type": "subslide"
    }
   },
   "source": [
    "## What about Python?\n",
    "\n",
    "org.graalvm.python implementation still alpha quality:\n",
    "\n",
    "[TODO: demo of it sucking]\n",
    "\n",
    "But it is a development priority of the core team (~30-40 devs).\n",
    "\n",
    "In the meantime, we can still invoke Java from Python with shared memory using e.g. pyjnius.\n",
    "Combined with Graal, this is very powerful: Python + &lt;any-Truffle-language&gt; for free."
   ]
  },
  {
   "cell_type": "markdown",
   "metadata": {
    "slideshow": {
     "slide_type": "subslide"
    }
   },
   "source": [
    "## What about PyPy?\n",
    "\n",
    "[TODO mention TruffleRuby's C blending approach?]\n",
    "\"Because scripting languages are so slow it's very common to rewrite performance hotspots in dynamically typed programs by hand in C, using the original interpreter's internal API to interact with the scripted code. Perversely, this technique actually makes it harder to speed up the language in general because running real programs often means running their C extensions too, and that's very difficult when those extensions make so many assumptions about the runtime's internals.\"\n",
    "https://blog.plan99.net/graal-truffle-134d8f28fb69"
   ]
  },
  {
   "cell_type": "markdown",
   "metadata": {
    "slideshow": {
     "slide_type": "subslide"
    }
   },
   "source": [
    "## What about JS in the browser?\n",
    "JavaScript in the browser is tied to specific JS implementations (Chrome = V8, Firefox = SpiderMonkey). Unclear (to me) if GraalVM's JS implementation is usable in browser... but seems unlikely.\n",
    "To maximize space and time performance, we still need interprocess shared memory between the browser's JS engine and the backend. But at least now the backend is easier to unify."
   ]
  },
  {
   "cell_type": "markdown",
   "metadata": {
    "slideshow": {
     "slide_type": "subslide"
    }
   },
   "source": [
    "## What about Electron?\n",
    "Graal team says it is feasible to build Electron to use graal's node.js instead. But no examples yet.\n",
    "[TODO quote from Gitter]"
   ]
  },
  {
   "cell_type": "markdown",
   "metadata": {
    "slideshow": {
     "slide_type": "subslide"
    }
   },
   "source": [
    "## What about mobile?\n",
    "[TODO]"
   ]
  },
  {
   "cell_type": "markdown",
   "metadata": {
    "slideshow": {
     "slide_type": "slide"
    }
   },
   "source": [
    "## Shared memory"
   ]
  },
  {
   "cell_type": "code",
   "execution_count": null,
   "metadata": {
    "slideshow": {
     "slide_type": "subslide"
    }
   },
   "outputs": [],
   "source": [
    "bigArray = new double[300 * 1000 * 1000]"
   ]
  },
  {
   "cell_type": "code",
   "execution_count": 5,
   "metadata": {
    "slideshow": {
     "slide_type": "subslide"
    }
   },
   "outputs": [
    {
     "name": "stdout",
     "output_type": "stream",
     "text": [
      "JavaScript: array length = 300000000\n"
     ]
    },
    {
     "data": {
      "text/plain": [
       "undefined"
      ]
     },
     "execution_count": 5,
     "metadata": {},
     "output_type": "execute_result"
    }
   ],
   "source": [
    "// We can push a variable directly into a language's global scope.\n",
    "context.getBindings(\"js\").putMember(\"bigArray\", bigArray)\n",
    "context.eval(\"js\", \"print('JavaScript: array length = ' + bigArray.length)\")"
   ]
  },
  {
   "cell_type": "code",
   "execution_count": 6,
   "metadata": {
    "slideshow": {
     "slide_type": "subslide"
    }
   },
   "outputs": [
    {
     "name": "stdout",
     "output_type": "stream",
     "text": [
      "Python: array length = 300000000\n"
     ]
    },
    {
     "data": {
      "text/plain": [
       "None"
      ]
     },
     "execution_count": 6,
     "metadata": {},
     "output_type": "execute_result"
    }
   ],
   "source": [
    "// We can use the polyglot bindings to avoid polluting the language's global namespace.\n",
    "context.getPolyglotBindings().putMember(\"bigArray\", bigArray)\n",
    "context.eval(\"python\",\n",
    "\"\"\"\n",
    "import polyglot\n",
    "big_array = polyglot.import_value('bigArray')\n",
    "print('Python: array length = ' + str(len(big_array)))\n",
    "\"\"\"\n",
    ")"
   ]
  },
  {
   "cell_type": "code",
   "execution_count": null,
   "metadata": {},
   "outputs": [],
   "source": []
  }
 ],
 "metadata": {
  "celltoolbar": "Slideshow",
  "kernelspec": {
   "display_name": "Groovy",
   "language": "groovy",
   "name": "groovy"
  },
  "language_info": {
   "codemirror_mode": "groovy",
   "file_extension": ".groovy",
   "mimetype": "",
   "name": "Groovy",
   "nbconverter_exporter": "",
   "version": "2.4.3"
  }
 },
 "nbformat": 4,
 "nbformat_minor": 2
}
